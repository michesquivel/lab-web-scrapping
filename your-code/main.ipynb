{
 "cells": [
  {
   "cell_type": "markdown",
   "metadata": {},
   "source": [
    "# Web Scraping Lab\n",
    "\n",
    "You will find in this notebook some scrapy exercises to practise your scraping skills.\n",
    "\n",
    "**Tips:**\n",
    "\n",
    "- Check the response status code for each request to ensure you have obtained the intended contennt.\n",
    "- Print the response text in each request to understand the kind of info you are getting and its format.\n",
    "- Check for patterns in the response text to extract the data/info requested in each question.\n",
    "- Visit each url and take a look at its source through Chrome DevTools. You'll need to identify the html tags, special class names etc. used for the html content you are expected to extract."
   ]
  },
  {
   "cell_type": "markdown",
   "metadata": {},
   "source": [
    "- [Requests library](http://docs.python-requests.org/en/master/#the-user-guide) documentation \n",
    "- [Beautiful Soup Doc](https://www.crummy.com/software/BeautifulSoup/bs4/doc/)\n",
    "- [Urllib](https://docs.python.org/3/library/urllib.html#module-urllib)\n",
    "- [re lib](https://docs.python.org/3/library/re.html)\n",
    "- [lxml lib](https://lxml.de/)\n",
    "- [Scrapy](https://scrapy.org/)\n",
    "- [List of HTTP status codes](https://en.wikipedia.org/wiki/List_of_HTTP_status_codes)\n",
    "- [HTML basics](http://www.simplehtmlguide.com/cheatsheet.php)\n",
    "- [CSS basics](https://www.cssbasics.com/#page_start)"
   ]
  },
  {
   "cell_type": "markdown",
   "metadata": {},
   "source": [
    "#### Below are the libraries and modules you may need. `requests`,  `BeautifulSoup` and `pandas` are imported for you. If you prefer to use additional libraries feel free to uncomment them."
   ]
  },
  {
   "cell_type": "code",
   "execution_count": 4,
   "metadata": {},
   "outputs": [],
   "source": [
    "import requests\n",
    "from bs4 import BeautifulSoup\n",
    "import pandas as pd\n",
    "# from pprint import pprint\n",
    "# from lxml import html\n",
    "# from lxml.html import fromstring\n",
    "# import urllib.request\n",
    "# from urllib.request import urlopen\n",
    "# import random\n",
    "import re\n",
    "# import scrapy"
   ]
  },
  {
   "cell_type": "code",
   "execution_count": 4,
   "metadata": {},
   "outputs": [
    {
     "name": "stdout",
     "output_type": "stream",
     "text": [
      "C:\\Users\\MICH\\AppData\\Local\\Programs\\Python\\Python39\n"
     ]
    }
   ],
   "source": [
    "import os\n",
    "import sys\n",
    "print(os.path.dirname(sys.executable))"
   ]
  },
  {
   "cell_type": "markdown",
   "metadata": {},
   "source": [
    "#### Download, parse (using BeautifulSoup), and print the content from the Trending Developers page from GitHub:"
   ]
  },
  {
   "cell_type": "code",
   "execution_count": 5,
   "metadata": {},
   "outputs": [],
   "source": [
    "# This is the url you will scrape in this exercise\n",
    "url = 'https://github.com/trending/developers'"
   ]
  },
  {
   "cell_type": "code",
   "execution_count": 6,
   "metadata": {},
   "outputs": [
    {
     "data": {
      "text/plain": [
       "<title>Trending  developers on GitHub today · GitHub</title>"
      ]
     },
     "execution_count": 6,
     "metadata": {},
     "output_type": "execute_result"
    }
   ],
   "source": [
    "html = requests.get(url).content\n",
    "soup = BeautifulSoup(html)\n",
    "soup.title"
   ]
  },
  {
   "cell_type": "markdown",
   "metadata": {},
   "source": [
    "#### Display the names of the trending developers retrieved in the previous step.\n",
    "\n",
    "Your output should be a Python list of developer names. Each name should not contain any html tag.\n",
    "\n",
    "**Instructions:**\n",
    "\n",
    "1. Find out the html tag and class names used for the developer names. You can achieve this using Chrome DevTools.\n",
    "\n",
    "1. Use BeautifulSoup to extract all the html elements that contain the developer names.\n",
    "\n",
    "1. Use string manipulation techniques to replace whitespaces and linebreaks (i.e. `\\n`) in the *text* of each html element. Use a list to store the clean names.\n",
    "\n",
    "1. Print the list of names.\n",
    "\n",
    "Your output should look like below:\n",
    "\n",
    "```\n",
    "['trimstray (@trimstray)',\n",
    " 'joewalnes (JoeWalnes)',\n",
    " 'charlax (Charles-AxelDein)',\n",
    " 'ForrestKnight (ForrestKnight)',\n",
    " 'revery-ui (revery-ui)',\n",
    " 'alibaba (Alibaba)',\n",
    " 'Microsoft (Microsoft)',\n",
    " 'github (GitHub)',\n",
    " 'facebook (Facebook)',\n",
    " 'boazsegev (Bo)',\n",
    " 'google (Google)',\n",
    " 'cloudfetch',\n",
    " 'sindresorhus (SindreSorhus)',\n",
    " 'tensorflow',\n",
    " 'apache (TheApacheSoftwareFoundation)',\n",
    " 'DevonCrawford (DevonCrawford)',\n",
    " 'ARMmbed (ArmMbed)',\n",
    " 'vuejs (vuejs)',\n",
    " 'fastai (fast.ai)',\n",
    " 'QiShaoXuan (Qi)',\n",
    " 'joelparkerhenderson (JoelParkerHenderson)',\n",
    " 'torvalds (LinusTorvalds)',\n",
    " 'CyC2018',\n",
    " 'komeiji-satori (神楽坂覚々)',\n",
    " 'script-8']\n",
    " ```"
   ]
  },
  {
   "cell_type": "code",
   "execution_count": 7,
   "metadata": {},
   "outputs": [
    {
     "data": {
      "text/plain": [
       "['JanDeDobbeleer',\n",
       " 'RichHarris',\n",
       " 'TomásSenart',\n",
       " '07akioni',\n",
       " 'GeorgiosKonstantopoulos',\n",
       " 'JeffreySu',\n",
       " 'JustinMaximillianKimlim',\n",
       " 'SébastienRos',\n",
       " 'PedroS.Lopez',\n",
       " 'ManuelKaufmann',\n",
       " 'MikePerham',\n",
       " 'DotanSimha',\n",
       " 'snipe',\n",
       " 'KentC.Dodds',\n",
       " 'ThibaultDuplessis',\n",
       " 'StefanProdan',\n",
       " 'RobertMosolgo',\n",
       " 'GarrickAden-Buie',\n",
       " 'DanielRoe',\n",
       " 'RafaelWinterhalter',\n",
       " 'KévinDunglas',\n",
       " 'ShivamMathur',\n",
       " 'DonJayamanne',\n",
       " 'AJONeal',\n",
       " 'Lennart']"
      ]
     },
     "execution_count": 7,
     "metadata": {},
     "output_type": "execute_result"
    }
   ],
   "source": [
    "#your code\n",
    "h1s = soup.find_all('h1', {'class': 'h3 lh-condensed'})\n",
    "nombres = [element.find('a').get_text().replace(' ', '').replace('\\n', '') for element in h1s]\n",
    "nombres"
   ]
  },
  {
   "cell_type": "markdown",
   "metadata": {},
   "source": [
    "#### Display the trending Python repositories in GitHub\n",
    "\n",
    "The steps to solve this problem is similar to the previous one except that you need to find out the repository names instead of developer names."
   ]
  },
  {
   "cell_type": "code",
   "execution_count": 8,
   "metadata": {},
   "outputs": [],
   "source": [
    "# This is the url you will scrape in this exercise\n",
    "url = 'https://github.com/trending/python?since=daily'"
   ]
  },
  {
   "cell_type": "code",
   "execution_count": 9,
   "metadata": {},
   "outputs": [
    {
     "data": {
      "text/plain": [
       "<title>Trending Python repositories on GitHub today · GitHub</title>"
      ]
     },
     "execution_count": 9,
     "metadata": {},
     "output_type": "execute_result"
    }
   ],
   "source": [
    "#your code\n",
    "url = 'https://github.com/trending/python?since=daily'\n",
    "html = requests.get(url).content\n",
    "soup = BeautifulSoup(html)\n",
    "soup.title"
   ]
  },
  {
   "cell_type": "code",
   "execution_count": 10,
   "metadata": {},
   "outputs": [],
   "source": [
    "html = requests.get(url).content\n",
    "soup = BeautifulSoup(html, \"html5lib\")"
   ]
  },
  {
   "cell_type": "code",
   "execution_count": 12,
   "metadata": {},
   "outputs": [
    {
     "data": {
      "text/plain": [
       "['PaddlePaddle/PaddleDetection',\n",
       " 'microsoft/qlib',\n",
       " 'jwyang/faster-rcnn.pytorch',\n",
       " 'rwightman/pytorch-image-models',\n",
       " 'MIC-DKFZ/nnUNet',\n",
       " 'cyrus-and/gdb-dashboard',\n",
       " 'open-mmlab/mmfewshot',\n",
       " 'PeterL1n/RobustVideoMatting',\n",
       " 'booknlp/booknlp',\n",
       " 'hankcs/HanLP',\n",
       " 'enpeizhao/CVprojects',\n",
       " 'microsoft/recommenders',\n",
       " '0x0021h/expbox',\n",
       " 'scipy/scipy',\n",
       " 'BR-IDL/PaddleViT',\n",
       " 'DarkSprings/CVE-2021-42321',\n",
       " 'Azure/azure-sdk-for-python',\n",
       " 'PaddlePaddle/PaddleRec',\n",
       " 'facebookresearch/AugLy',\n",
       " 'PaddlePaddle/Paddle',\n",
       " 'milesial/Pytorch-UNet',\n",
       " 'TheAlgorithms/Python',\n",
       " 'commaai/openpilot',\n",
       " 'pytorch/fairseq',\n",
       " 'facebookresearch/pytorch3d']"
      ]
     },
     "execution_count": 12,
     "metadata": {},
     "output_type": "execute_result"
    }
   ],
   "source": [
    "h1s = soup.find_all('h1', {'class': 'h3 lh-condensed'})\n",
    "repositorios = [element.find('a').get_text().replace('\\n', '').replace(' ','') for element in h1s]\n",
    "repositorios"
   ]
  },
  {
   "cell_type": "markdown",
   "metadata": {},
   "source": [
    "#### Display all the image links from Walt Disney wikipedia page"
   ]
  },
  {
   "cell_type": "code",
   "execution_count": 13,
   "metadata": {},
   "outputs": [],
   "source": [
    "# This is the url you will scrape in this exercise\n",
    "url = 'https://en.wikipedia.org/wiki/Walt_Disney'"
   ]
  },
  {
   "cell_type": "code",
   "execution_count": 14,
   "metadata": {},
   "outputs": [],
   "source": [
    "html = requests.get(url).content\n",
    "soup = BeautifulSoup(html, \"html5lib\")"
   ]
  },
  {
   "cell_type": "code",
   "execution_count": 19,
   "metadata": {},
   "outputs": [
    {
     "data": {
      "text/plain": [
       "['https://en.wikipedia.org/wiki/Walt_Disney#/media/File:Walt_Disney_1946.JPG',\n",
       " 'https://en.wikipedia.org/wiki/Walt_Disney#/media/File:Walt_Disney_1942_signature.svg',\n",
       " 'https://en.wikipedia.org/wiki/Walt_Disney#/media/File:Walt_Disney_envelope_ca._1921.jpg',\n",
       " 'https://en.wikipedia.org/wiki/Walt_Disney#/media/File:Trolley_Troubles_poster.jpg',\n",
       " 'https://en.wikipedia.org/wiki/Walt_Disney#/media/File:Steamboat-willie.jpg',\n",
       " 'https://en.wikipedia.org/wiki/Walt_Disney#/media/File:Walt_Disney_1935.jpg',\n",
       " 'https://en.wikipedia.org/wiki/Walt_Disney#/media/File:Walt_Disney_Snow_white_1937_trailer_screenshot_(13).jpg',\n",
       " 'https://en.wikipedia.org/wiki/Walt_Disney#/media/File:Disney_drawing_goofy.jpg',\n",
       " 'https://en.wikipedia.org/wiki/Walt_Disney#/media/File:DisneySchiphol1951.jpg',\n",
       " 'https://en.wikipedia.org/wiki/Walt_Disney#/media/File:WaltDisneyplansDisneylandDec1954.jpg',\n",
       " 'https://en.wikipedia.org/wiki/Walt_Disney#/media/File:Walt_disney_portrait_right.jpg',\n",
       " 'https://en.wikipedia.org/wiki/Walt_Disney#/media/File:Walt_Disney_Grave.JPG',\n",
       " 'https://en.wikipedia.org/wiki/Walt_Disney#/media/File:Roy_O._Disney_with_Company_at_Press_Conference.jpg',\n",
       " 'https://en.wikipedia.org/wiki/Walt_Disney#/media/File:Disney_Oscar_1953_(cropped).jpg',\n",
       " 'https://en.wikipedia.org/wiki/Walt_Disney#/media/File:Disney1968.jpg',\n",
       " 'https://en.wikipedia.org/wiki/Walt_Disney#/media/File:Disneyland_Resort_logo.svg',\n",
       " 'https://en.wikipedia.org/wiki/Walt_Disney#/media/File:Animation_disc.svg',\n",
       " 'https://en.wikipedia.org/wiki/Walt_Disney#/media/File:P_vip.svg',\n",
       " 'https://en.wikipedia.org/wiki/Walt_Disney#/media/File:Magic_Kingdom_castle.jpg',\n",
       " 'https://en.wikipedia.org/wiki/Walt_Disney#/media/File:Video-x-generic.svg',\n",
       " 'https://en.wikipedia.org/wiki/Walt_Disney#/media/File:Flag_of_Los_Angeles_County,_California.svg',\n",
       " 'https://en.wikipedia.org/wiki/Walt_Disney#/media/File:Blank_television_set.svg',\n",
       " 'https://en.wikipedia.org/wiki/Walt_Disney#/media/File:Flag_of_the_United_States.svg']"
      ]
     },
     "execution_count": 19,
     "metadata": {},
     "output_type": "execute_result"
    }
   ],
   "source": [
    "#your code\n",
    "a = soup.find_all('a', {'class': 'image'})\n",
    "a\n",
    "links = []\n",
    "pattern = 'File:.+'\n",
    "for element in a:\n",
    "    a_name = element.get('href')\n",
    "    link_fragment = re.findall(pattern, a_name)\n",
    "    link = f'https://en.wikipedia.org/wiki/Walt_Disney#/media/{link_fragment[0]}'\n",
    "    links.append(link)\n",
    "links"
   ]
  },
  {
   "cell_type": "markdown",
   "metadata": {},
   "source": [
    "#### Retrieve an arbitary Wikipedia page of \"Python\" and create a list of links on that page"
   ]
  },
  {
   "cell_type": "code",
   "execution_count": 20,
   "metadata": {},
   "outputs": [],
   "source": [
    "# This is the url you will scrape in this exercise\n",
    "url ='https://en.wikipedia.org/wiki/Python' "
   ]
  },
  {
   "cell_type": "code",
   "execution_count": 21,
   "metadata": {},
   "outputs": [],
   "source": [
    "#your code\n",
    "html = requests.get(url).content\n",
    "soup = BeautifulSoup(html, \"html5lib\")"
   ]
  },
  {
   "cell_type": "code",
   "execution_count": 24,
   "metadata": {},
   "outputs": [
    {
     "data": {
      "text/plain": [
       "['https://en.wikipedia.org/wiki/Python#mw-head',\n",
       " 'https://en.wikipedia.org/wiki/Python#searchInput',\n",
       " 'https://en.wiktionary.org/wiki/Python',\n",
       " 'https://en.wiktionary.org/wiki/python',\n",
       " 'https://en.wikipedia.org/wiki/Pythonidae',\n",
       " 'https://en.wikipedia.org/wiki/Python_(genus)',\n",
       " 'https://en.wikipedia.org/wiki/Python#Computing',\n",
       " 'https://en.wikipedia.org/wiki/Python#People',\n",
       " 'https://en.wikipedia.org/wiki/Python#Roller_coasters',\n",
       " 'https://en.wikipedia.org/wiki/Python#Vehicles',\n",
       " 'https://en.wikipedia.org/wiki/Python#Weaponry',\n",
       " 'https://en.wikipedia.org/wiki/Python#Other_uses',\n",
       " 'https://en.wikipedia.org/wiki/Python#See_also',\n",
       " 'https://en.wikipedia.org/w/index.php?title=Python&action=edit&section=1',\n",
       " 'https://en.wikipedia.org/wiki/Python_(programming_language)',\n",
       " 'https://en.wikipedia.org/wiki/CMU_Common_Lisp',\n",
       " 'https://en.wikipedia.org/wiki/PERQ#PERQ_3',\n",
       " 'https://en.wikipedia.org/w/index.php?title=Python&action=edit&section=2',\n",
       " 'https://en.wikipedia.org/wiki/Python_of_Aenus',\n",
       " 'https://en.wikipedia.org/wiki/Python_(painter)',\n",
       " 'https://en.wikipedia.org/wiki/Python_of_Byzantium',\n",
       " 'https://en.wikipedia.org/wiki/Python_of_Catana',\n",
       " 'https://en.wikipedia.org/wiki/Python_Anghelo',\n",
       " 'https://en.wikipedia.org/w/index.php?title=Python&action=edit&section=3',\n",
       " 'https://en.wikipedia.org/wiki/Python_(Efteling)',\n",
       " 'https://en.wikipedia.org/wiki/Python_(Busch_Gardens_Tampa_Bay)',\n",
       " 'https://en.wikipedia.org/wiki/Python_(Coney_Island,_Cincinnati,_Ohio)',\n",
       " 'https://en.wikipedia.org/w/index.php?title=Python&action=edit&section=4',\n",
       " 'https://en.wikipedia.org/wiki/Python_(automobile_maker)',\n",
       " 'https://en.wikipedia.org/wiki/Python_(Ford_prototype)',\n",
       " 'https://en.wikipedia.org/w/index.php?title=Python&action=edit&section=5',\n",
       " 'https://en.wikipedia.org/wiki/Python_(missile)',\n",
       " 'https://en.wikipedia.org/wiki/Python_(nuclear_primary)',\n",
       " 'https://en.wikipedia.org/wiki/Colt_Python',\n",
       " 'https://en.wikipedia.org/w/index.php?title=Python&action=edit&section=6',\n",
       " 'https://en.wikipedia.org/wiki/PYTHON',\n",
       " 'https://en.wikipedia.org/wiki/Python_(film)',\n",
       " 'https://en.wikipedia.org/wiki/Python_(mythology)',\n",
       " 'https://en.wikipedia.org/wiki/Monty_Python',\n",
       " 'https://en.wikipedia.org/wiki/Python_(Monty)_Pictures',\n",
       " 'https://en.wikipedia.org/w/index.php?title=Python&action=edit&section=7',\n",
       " 'https://en.wikipedia.org/wiki/Cython',\n",
       " 'https://en.wikipedia.org/wiki/Pyton',\n",
       " 'https://en.wikipedia.org/wiki/Pithon',\n",
       " 'https://en.wikipedia.org/wiki/File:Disambig_gray.svg',\n",
       " 'https://en.wikipedia.org/wiki/Help:Disambiguation',\n",
       " 'https://en.wikipedia.org/w/index.php?title=Special:WhatLinksHere/Python&namespace=0',\n",
       " 'https://en.wikipedia.org/w/index.php?title=Python&oldid=1048703433',\n",
       " 'https://en.wikipedia.org/wiki/Help:Category',\n",
       " 'https://en.wikipedia.org/wiki/Category:Disambiguation_pages',\n",
       " 'https://en.wikipedia.org/wiki/Category:Human_name_disambiguation_pages',\n",
       " 'https://en.wikipedia.org/wiki/Category:Disambiguation_pages_with_given-name-holder_lists',\n",
       " 'https://en.wikipedia.org/wiki/Category:Disambiguation_pages_with_short_descriptions',\n",
       " 'https://en.wikipedia.org/wiki/Category:Short_description_is_different_from_Wikidata',\n",
       " 'https://en.wikipedia.org/wiki/Category:All_article_disambiguation_pages',\n",
       " 'https://en.wikipedia.org/wiki/Category:All_disambiguation_pages',\n",
       " 'https://en.wikipedia.org/wiki/Category:Animal_common_name_disambiguation_pages',\n",
       " 'https://en.wikipedia.org/wiki/Special:MyTalk',\n",
       " 'https://en.wikipedia.org/wiki/Special:MyContributions',\n",
       " 'https://en.wikipedia.org/w/index.php?title=Special:CreateAccount&returnto=Python',\n",
       " 'https://en.wikipedia.org/w/index.php?title=Special:UserLogin&returnto=Python',\n",
       " 'https://en.wikipedia.org/wiki/Python',\n",
       " 'https://en.wikipedia.org/wiki/Talk:Python',\n",
       " 'https://en.wikipedia.org/wiki/Python',\n",
       " 'https://en.wikipedia.org/w/index.php?title=Python&action=edit',\n",
       " 'https://en.wikipedia.org/w/index.php?title=Python&action=history',\n",
       " 'https://en.wikipedia.org/wiki/Main_Page',\n",
       " 'https://en.wikipedia.org/wiki/Main_Page',\n",
       " 'https://en.wikipedia.org/wiki/Wikipedia:Contents',\n",
       " 'https://en.wikipedia.org/wiki/Portal:Current_events',\n",
       " 'https://en.wikipedia.org/wiki/Special:Random',\n",
       " 'https://en.wikipedia.org/wiki/Wikipedia:About',\n",
       " 'https://en.wikipedia.org//en.wikipedia.org/wiki/Wikipedia:Contact_us',\n",
       " 'https://donate.wikimedia.org/wiki/Special:FundraiserRedirector?utm_source=donate&utm_medium=sidebar&utm_campaign=C13_en.wikipedia.org&uselang=en',\n",
       " 'https://en.wikipedia.org/wiki/Help:Contents',\n",
       " 'https://en.wikipedia.org/wiki/Help:Introduction',\n",
       " 'https://en.wikipedia.org/wiki/Wikipedia:Community_portal',\n",
       " 'https://en.wikipedia.org/wiki/Special:RecentChanges',\n",
       " 'https://en.wikipedia.org/wiki/Wikipedia:File_Upload_Wizard',\n",
       " 'https://en.wikipedia.org/wiki/Special:WhatLinksHere/Python',\n",
       " 'https://en.wikipedia.org/wiki/Special:RecentChangesLinked/Python',\n",
       " 'https://en.wikipedia.org/wiki/Wikipedia:File_Upload_Wizard',\n",
       " 'https://en.wikipedia.org/wiki/Special:SpecialPages',\n",
       " 'https://en.wikipedia.org/w/index.php?title=Python&oldid=1048703433',\n",
       " 'https://en.wikipedia.org/w/index.php?title=Python&action=info',\n",
       " 'https://en.wikipedia.org/w/index.php?title=Special:CiteThisPage&page=Python&id=1048703433&wpFormIdentifier=titleform',\n",
       " 'https://www.wikidata.org/wiki/Special:EntityPage/Q747452',\n",
       " 'https://en.wikipedia.org/w/index.php?title=Special:DownloadAsPdf&page=Python&action=show-download-screen',\n",
       " 'https://en.wikipedia.org/w/index.php?title=Python&printable=yes',\n",
       " 'https://commons.wikimedia.org/wiki/Category:Python',\n",
       " 'https://af.wikipedia.org/wiki/Python',\n",
       " 'https://als.wikipedia.org/wiki/Python',\n",
       " 'https://ar.wikipedia.org/wiki/%D8%A8%D8%A7%D9%8A%D8%AB%D9%88%D9%86_(%D8%AA%D9%88%D8%B6%D9%8A%D8%AD)',\n",
       " 'https://az.wikipedia.org/wiki/Python',\n",
       " 'https://bn.wikipedia.org/wiki/%E0%A6%AA%E0%A6%BE%E0%A6%87%E0%A6%A5%E0%A6%A8_(%E0%A6%A6%E0%A7%8D%E0%A6%AC%E0%A7%8D%E0%A6%AF%E0%A6%B0%E0%A7%8D%E0%A6%A5%E0%A6%A4%E0%A6%BE_%E0%A6%A8%E0%A6%BF%E0%A6%B0%E0%A6%B8%E0%A6%A8)',\n",
       " 'https://be.wikipedia.org/wiki/Python',\n",
       " 'https://bg.wikipedia.org/wiki/%D0%9F%D0%B8%D1%82%D0%BE%D0%BD_(%D0%BF%D0%BE%D1%8F%D1%81%D0%BD%D0%B5%D0%BD%D0%B8%D0%B5)',\n",
       " 'https://cs.wikipedia.org/wiki/Python_(rozcestn%C3%ADk)',\n",
       " 'https://da.wikipedia.org/wiki/Python',\n",
       " 'https://de.wikipedia.org/wiki/Python',\n",
       " 'https://eo.wikipedia.org/wiki/Pitono_(apartigilo)',\n",
       " 'https://eu.wikipedia.org/wiki/Python_(argipena)',\n",
       " 'https://fa.wikipedia.org/wiki/%D9%BE%D8%A7%DB%8C%D8%AA%D9%88%D9%86',\n",
       " 'https://fr.wikipedia.org/wiki/Python',\n",
       " 'https://ko.wikipedia.org/wiki/%ED%8C%8C%EC%9D%B4%EC%84%A0',\n",
       " 'https://hr.wikipedia.org/wiki/Python_(razdvojba)',\n",
       " 'https://io.wikipedia.org/wiki/Pitono',\n",
       " 'https://id.wikipedia.org/wiki/Python',\n",
       " 'https://ia.wikipedia.org/wiki/Python_(disambiguation)',\n",
       " 'https://is.wikipedia.org/wiki/Python_(a%C3%B0greining)',\n",
       " 'https://it.wikipedia.org/wiki/Python_(disambigua)',\n",
       " 'https://he.wikipedia.org/wiki/%D7%A4%D7%99%D7%AA%D7%95%D7%9F',\n",
       " 'https://ka.wikipedia.org/wiki/%E1%83%9E%E1%83%98%E1%83%97%E1%83%9D%E1%83%9C%E1%83%98_(%E1%83%9B%E1%83%A0%E1%83%90%E1%83%95%E1%83%90%E1%83%9A%E1%83%9B%E1%83%9C%E1%83%98%E1%83%A8%E1%83%95%E1%83%9C%E1%83%94%E1%83%9A%E1%83%9D%E1%83%95%E1%83%90%E1%83%9C%E1%83%98)',\n",
       " 'https://kg.wikipedia.org/wiki/Mboma_(nyoka)',\n",
       " 'https://la.wikipedia.org/wiki/Python_(discretiva)',\n",
       " 'https://lb.wikipedia.org/wiki/Python',\n",
       " 'https://hu.wikipedia.org/wiki/Python_(egy%C3%A9rtelm%C5%B1s%C3%ADt%C5%91_lap)',\n",
       " 'https://mr.wikipedia.org/wiki/%E0%A4%AA%E0%A4%BE%E0%A4%AF%E0%A4%A5%E0%A5%89%E0%A4%A8_(%E0%A4%86%E0%A4%9C%E0%A5%8D%E0%A4%9E%E0%A4%BE%E0%A4%B5%E0%A4%B2%E0%A5%80_%E0%A4%AD%E0%A4%BE%E0%A4%B7%E0%A4%BE)',\n",
       " 'https://nl.wikipedia.org/wiki/Python',\n",
       " 'https://ja.wikipedia.org/wiki/%E3%83%91%E3%82%A4%E3%82%BD%E3%83%B3',\n",
       " 'https://no.wikipedia.org/wiki/Pyton',\n",
       " 'https://pl.wikipedia.org/wiki/Pyton',\n",
       " 'https://pt.wikipedia.org/wiki/Python_(desambigua%C3%A7%C3%A3o)',\n",
       " 'https://ru.wikipedia.org/wiki/Python_(%D0%B7%D0%BD%D0%B0%D1%87%D0%B5%D0%BD%D0%B8%D1%8F)',\n",
       " 'https://sk.wikipedia.org/wiki/Python',\n",
       " 'https://sr.wikipedia.org/wiki/%D0%9F%D0%B8%D1%82%D0%BE%D0%BD_(%D0%B2%D0%B8%D1%88%D0%B5%D0%B7%D0%BD%D0%B0%D1%87%D0%BD%D0%B0_%D0%BE%D0%B4%D1%80%D0%B5%D0%B4%D0%BD%D0%B8%D1%86%D0%B0)',\n",
       " 'https://sh.wikipedia.org/wiki/Python',\n",
       " 'https://fi.wikipedia.org/wiki/Python',\n",
       " 'https://sv.wikipedia.org/wiki/Pyton',\n",
       " 'https://th.wikipedia.org/wiki/%E0%B9%84%E0%B8%9E%E0%B8%97%E0%B8%AD%E0%B8%99',\n",
       " 'https://tr.wikipedia.org/wiki/Python',\n",
       " 'https://uk.wikipedia.org/wiki/%D0%9F%D1%96%D1%84%D0%BE%D0%BD',\n",
       " 'https://ur.wikipedia.org/wiki/%D9%BE%D8%A7%D8%A6%DB%8C%D8%AA%DA%BE%D9%88%D9%86',\n",
       " 'https://vi.wikipedia.org/wiki/Python',\n",
       " 'https://zh.wikipedia.org/wiki/Python_(%E6%B6%88%E6%AD%A7%E4%B9%89)',\n",
       " 'https://www.wikidata.org/wiki/Special:EntityPage/Q747452#sitelinks-wikipedia',\n",
       " 'https://en.wikipedia.org//en.wikipedia.org/wiki/Wikipedia:Text_of_Creative_Commons_Attribution-ShareAlike_3.0_Unported_License',\n",
       " 'https://en.wikipedia.org//creativecommons.org/licenses/by-sa/3.0/',\n",
       " 'https://en.wikipedia.org//foundation.wikimedia.org/wiki/Terms_of_Use',\n",
       " 'https://en.wikipedia.org//foundation.wikimedia.org/wiki/Privacy_policy',\n",
       " 'https://en.wikipedia.org//www.wikimediafoundation.org/',\n",
       " 'https://foundation.wikimedia.org/wiki/Privacy_policy',\n",
       " 'https://en.wikipedia.org/wiki/Wikipedia:About',\n",
       " 'https://en.wikipedia.org/wiki/Wikipedia:General_disclaimer',\n",
       " 'https://en.wikipedia.org//en.wikipedia.org/wiki/Wikipedia:Contact_us',\n",
       " 'https://en.wikipedia.org//en.m.wikipedia.org/w/index.php?title=Python&mobileaction=toggle_view_mobile',\n",
       " 'https://www.mediawiki.org/wiki/Special:MyLanguage/How_to_contribute',\n",
       " 'https://stats.wikimedia.org/#/en.wikipedia.org',\n",
       " 'https://foundation.wikimedia.org/wiki/Cookie_statement',\n",
       " 'https://wikimediafoundation.org/',\n",
       " 'https://www.mediawiki.org/']"
      ]
     },
     "execution_count": 24,
     "metadata": {},
     "output_type": "execute_result"
    }
   ],
   "source": [
    "a = soup.find_all('a')\n",
    "\n",
    "links = []\n",
    "for element in a:\n",
    "    try:\n",
    "        if(element['href'].startswith('http')):\n",
    "            links.append(element['href'])\n",
    "        elif (element['href'].startswith('#')):\n",
    "            links.append('https://en.wikipedia.org/wiki/Python' + element['href'])\n",
    "        else:\n",
    "            links.append('https://en.wikipedia.org' + element['href'])\n",
    "    except:\n",
    "        pass\n",
    "            \n",
    "links"
   ]
  },
  {
   "cell_type": "markdown",
   "metadata": {},
   "source": [
    "#### Number of Titles that have changed in the United States Code since its last release point "
   ]
  },
  {
   "cell_type": "code",
   "execution_count": 26,
   "metadata": {},
   "outputs": [
    {
     "data": {
      "text/plain": [
       "<title>DOWNLOAD THE UNITED STATES CODE</title>"
      ]
     },
     "execution_count": 26,
     "metadata": {},
     "output_type": "execute_result"
    }
   ],
   "source": [
    "# This is the url you will scrape in this exercise\n",
    "url = 'http://uscode.house.gov/download/download.shtml'\n",
    "html = requests.get(url).content\n",
    "soup = BeautifulSoup(html)\n",
    "soup.title"
   ]
  },
  {
   "cell_type": "code",
   "execution_count": 27,
   "metadata": {},
   "outputs": [
    {
     "name": "stdout",
     "output_type": "stream",
     "text": [
      "['All titles in the format selected compressed into a zip archive.']\n",
      "['Title 1 - General Provisions ٭']\n",
      "['Title 2 - The Congress']\n",
      "['Title 3 - The President ٭']\n",
      "['Title 4 - Flag and Seal, Seat of Government, and the States ٭']\n",
      "['Title 5 - Government Organization and Employees ٭']\n",
      "['Title 6 - Domestic Security']\n",
      "['Title 7 - Agriculture']\n",
      "['Title 8 - Aliens and Nationality']\n",
      "['Title 9 - Arbitration ٭']\n",
      "['Title 10 - Armed Forces ٭']\n",
      "['Title 11 - Bankruptcy ٭']\n",
      "['Title 12 - Banks and Banking']\n",
      "['Title 13 - Census ٭']\n",
      "['Title 14 - Coast Guard ٭']\n",
      "['Title 15 - Commerce and Trade']\n",
      "['Title 16 - Conservation']\n",
      "['Title 17 - Copyrights ٭']\n",
      "['Title 19 - Customs Duties']\n",
      "['Title 20 - Education']\n",
      "['Title 21 - Food and Drugs']\n",
      "['Title 22 - Foreign Relations and Intercourse']\n",
      "['Title 23 - Highways ٭']\n",
      "['Title 24 - Hospitals and Asylums']\n",
      "['Title 25 - Indians']\n",
      "['Title 26 - Internal Revenue Code']\n",
      "['Title 27 - Intoxicating Liquors']\n",
      "['Title 28 - Judiciary and Judicial Procedure ٭']\n",
      "['Title 29 - Labor']\n",
      "['Title 30 - Mineral Lands and Mining']\n",
      "['Title 31 - Money and Finance ٭']\n",
      "['Title 32 - National Guard ٭']\n",
      "['Title 33 - Navigation and Navigable Waters']\n",
      "['Title 35 - Patents ٭']\n",
      "['Title 36 - Patriotic and National Observances, Ceremonies, and Organizations ٭']\n",
      "['Title 37 - Pay and Allowances of the Uniformed Services ٭']\n",
      "[\"Title 38 - Veterans' Benefits ٭\"]\n",
      "['Title 39 - Postal Service ٭']\n",
      "['Title 40 - Public Buildings, Property, and Works ٭']\n",
      "['Title 41 - Public Contracts ٭']\n",
      "['Title 42 - The Public Health and Welfare']\n",
      "['Title 43 - Public Lands']\n",
      "['Title 44 - Public Printing and Documents ٭']\n",
      "['Title 45 - Railroads']\n",
      "['Title 46 - Shipping ٭']\n",
      "['Title 47 - Telecommunications']\n",
      "['Title 48 - Territories and Insular Possessions']\n",
      "['Title 49 - Transportation ٭']\n",
      "['Title 50 - War and National Defense']\n",
      "['Title 51 - National and Commercial Space Programs ٭']\n",
      "['Title 52 - Voting and Elections']\n",
      "['Title 53 [Reserved]']\n",
      "['Title 54 - National Park Service and Related Programs ٭']\n"
     ]
    }
   ],
   "source": [
    "#your code\n",
    "nombres=[]\n",
    "table = soup.find_all('div',{'class':'uscitem'})\n",
    "for t in table:\n",
    "    uno = t.find_all('div',{'class':'usctitle'})\n",
    "    #print (uno)\n",
    "    for a in uno:\n",
    "        nombres.append(a.text.replace('\\n\\n','\\n').strip().split(\"\\n\"))\n",
    "for a in nombres:\n",
    "    print (a)"
   ]
  },
  {
   "cell_type": "markdown",
   "metadata": {},
   "source": [
    "#### A Python list with the top ten FBI's Most Wanted names "
   ]
  },
  {
   "cell_type": "code",
   "execution_count": 29,
   "metadata": {},
   "outputs": [
    {
     "data": {
      "text/plain": [
       "<title>Ten Most Wanted Fugitives — FBI</title>"
      ]
     },
     "execution_count": 29,
     "metadata": {},
     "output_type": "execute_result"
    }
   ],
   "source": [
    "# This is the url you will scrape in this exercise\n",
    "url = 'https://www.fbi.gov/wanted/topten'\n",
    "html = requests.get(url).content\n",
    "soup = BeautifulSoup(html)\n",
    "soup.title"
   ]
  },
  {
   "cell_type": "code",
   "execution_count": 32,
   "metadata": {},
   "outputs": [
    {
     "name": "stdout",
     "output_type": "stream",
     "text": [
      "['OCTAVIANO JUAREZ-CORRO']\n",
      "['RAFAEL CARO-QUINTERO']\n",
      "['YULAN ADONAY ARCHAGA CARIAS']\n",
      "['EUGENE PALMER']\n",
      "['BHADRESHKUMAR CHETANBHAI PATEL']\n",
      "['ALEJANDRO ROSALES CASTILLO']\n",
      "['ARNOLDO JIMENEZ']\n",
      "['JASON DEREK BROWN']\n",
      "['ALEXIS FLORES']\n",
      "['JOSE RODOLFO VILLARREAL-HERNANDEZ']\n"
     ]
    }
   ],
   "source": [
    "#your code \n",
    "grid= soup.find_all('div',{'class':'query-results pat-pager'})[0]\n",
    "element = grid.find_all('h3',{'class':'title'})\n",
    "for fugitivo in element:\n",
    "    print (fugitivo.text.replace('\\n\\n','\\n').strip().split(\"\\n\"))"
   ]
  },
  {
   "cell_type": "markdown",
   "metadata": {},
   "source": [
    "####  20 latest earthquakes info (date, time, latitude, longitude and region name) by the EMSC as a pandas dataframe"
   ]
  },
  {
   "cell_type": "code",
   "execution_count": 35,
   "metadata": {},
   "outputs": [
    {
     "data": {
      "text/plain": [
       "<title>Earthquakes today | Earthquake today | earthquake | earthquakes</title>"
      ]
     },
     "execution_count": 35,
     "metadata": {},
     "output_type": "execute_result"
    }
   ],
   "source": [
    "# This is the url you will scrape in this exercise\n",
    "url = 'https://www.emsc-csem.org/Earthquake/'\n",
    "html = requests.get(url).content\n",
    "soup = BeautifulSoup(html)\n",
    "soup.title"
   ]
  },
  {
   "cell_type": "code",
   "execution_count": 36,
   "metadata": {},
   "outputs": [
    {
     "data": {
      "text/html": [
       "<div>\n",
       "<style scoped>\n",
       "    .dataframe tbody tr th:only-of-type {\n",
       "        vertical-align: middle;\n",
       "    }\n",
       "\n",
       "    .dataframe tbody tr th {\n",
       "        vertical-align: top;\n",
       "    }\n",
       "\n",
       "    .dataframe thead th {\n",
       "        text-align: right;\n",
       "    }\n",
       "</style>\n",
       "<table border=\"1\" class=\"dataframe\">\n",
       "  <thead>\n",
       "    <tr style=\"text-align: right;\">\n",
       "      <th></th>\n",
       "      <th>earthquake2021-11-25   15:21:54.109min ago28.51 N  17.91 W  18ML3.3 CANARY ISLANDS, SPAIN REGION2021-11-25 15:23</th>\n",
       "    </tr>\n",
       "  </thead>\n",
       "  <tbody>\n",
       "    <tr>\n",
       "      <th>0</th>\n",
       "      <td>earthquake2021-11-25   15:14:32.816min ago28.5...</td>\n",
       "    </tr>\n",
       "    <tr>\n",
       "      <th>1</th>\n",
       "      <td>earthquake2021-11-25   15:09:55.321min ago35.8...</td>\n",
       "    </tr>\n",
       "    <tr>\n",
       "      <th>2</th>\n",
       "      <td>earthquake2021-11-25   14:47:51.543min ago37.8...</td>\n",
       "    </tr>\n",
       "    <tr>\n",
       "      <th>3</th>\n",
       "      <td>earthquake2021-11-25   14:32:33.758min ago35.4...</td>\n",
       "    </tr>\n",
       "    <tr>\n",
       "      <th>4</th>\n",
       "      <td>earthquake2021-11-25   14:30:17.81hr 00min ago...</td>\n",
       "    </tr>\n",
       "    <tr>\n",
       "      <th>5</th>\n",
       "      <td>earthquake2021-11-25   14:28:50.01hr 02min ago...</td>\n",
       "    </tr>\n",
       "    <tr>\n",
       "      <th>6</th>\n",
       "      <td>earthquake2021-11-25   14:15:22.61hr 15min ago...</td>\n",
       "    </tr>\n",
       "    <tr>\n",
       "      <th>7</th>\n",
       "      <td>earthquake2021-11-25   14:06:53.81hr 24min ago...</td>\n",
       "    </tr>\n",
       "    <tr>\n",
       "      <th>8</th>\n",
       "      <td>earthquake2021-11-25   14:06:43.31hr 24min ago...</td>\n",
       "    </tr>\n",
       "    <tr>\n",
       "      <th>9</th>\n",
       "      <td>earthquake2021-11-25   14:05:41.01hr 25min ago...</td>\n",
       "    </tr>\n",
       "    <tr>\n",
       "      <th>10</th>\n",
       "      <td>earthquake2021-11-25   13:51:17.01hr 39min ago...</td>\n",
       "    </tr>\n",
       "    <tr>\n",
       "      <th>11</th>\n",
       "      <td>earthquake2021-11-25   13:44:23.71hr 46min ago...</td>\n",
       "    </tr>\n",
       "    <tr>\n",
       "      <th>12</th>\n",
       "      <td>earthquake2021-11-25   13:32:03.01hr 59min ago...</td>\n",
       "    </tr>\n",
       "    <tr>\n",
       "      <th>13</th>\n",
       "      <td>earthquake2021-11-25   13:22:47.22hr 08min ago...</td>\n",
       "    </tr>\n",
       "    <tr>\n",
       "      <th>14</th>\n",
       "      <td>earthquake2021-11-25   13:21:37.72hr 09min ago...</td>\n",
       "    </tr>\n",
       "    <tr>\n",
       "      <th>15</th>\n",
       "      <td>earthquake2021-11-25   13:04:16.12hr 26min ago...</td>\n",
       "    </tr>\n",
       "    <tr>\n",
       "      <th>16</th>\n",
       "      <td>Fearthquake2021-11-25   13:03:32.92hr 27min ag...</td>\n",
       "    </tr>\n",
       "    <tr>\n",
       "      <th>17</th>\n",
       "      <td>earthquake2021-11-25   12:57:44.02hr 33min ago...</td>\n",
       "    </tr>\n",
       "    <tr>\n",
       "      <th>18</th>\n",
       "      <td>earthquake2021-11-25   12:50:46.42hr 40min ago...</td>\n",
       "    </tr>\n",
       "    <tr>\n",
       "      <th>19</th>\n",
       "      <td>earthquake2021-11-25   12:48:29.02hr 42min ago...</td>\n",
       "    </tr>\n",
       "    <tr>\n",
       "      <th>20</th>\n",
       "      <td>earthquake2021-11-25   12:39:41.82hr 51min ago...</td>\n",
       "    </tr>\n",
       "    <tr>\n",
       "      <th>21</th>\n",
       "      <td>earthquake2021-11-25   12:26:15.53hr 04min ago...</td>\n",
       "    </tr>\n",
       "    <tr>\n",
       "      <th>22</th>\n",
       "      <td>earthquake2021-11-25   12:18:01.43hr 13min ago...</td>\n",
       "    </tr>\n",
       "    <tr>\n",
       "      <th>23</th>\n",
       "      <td>earthquake2021-11-25   12:04:57.43hr 26min ago...</td>\n",
       "    </tr>\n",
       "    <tr>\n",
       "      <th>24</th>\n",
       "      <td>earthquake2021-11-25   12:04:09.33hr 26min ago...</td>\n",
       "    </tr>\n",
       "    <tr>\n",
       "      <th>25</th>\n",
       "      <td>earthquake2021-11-25   12:02:07.23hr 28min ago...</td>\n",
       "    </tr>\n",
       "    <tr>\n",
       "      <th>26</th>\n",
       "      <td>earthquake2021-11-25   12:02:00.23hr 29min ago...</td>\n",
       "    </tr>\n",
       "    <tr>\n",
       "      <th>27</th>\n",
       "      <td>earthquake2021-11-25   11:47:18.03hr 43min ago...</td>\n",
       "    </tr>\n",
       "    <tr>\n",
       "      <th>28</th>\n",
       "      <td>earthquake2021-11-25   11:46:16.53hr 44min ago...</td>\n",
       "    </tr>\n",
       "    <tr>\n",
       "      <th>29</th>\n",
       "      <td>earthquake2021-11-25   11:44:24.53hr 46min ago...</td>\n",
       "    </tr>\n",
       "    <tr>\n",
       "      <th>30</th>\n",
       "      <td>earthquake2021-11-25   11:40:30.03hr 50min ago...</td>\n",
       "    </tr>\n",
       "    <tr>\n",
       "      <th>31</th>\n",
       "      <td>earthquake2021-11-25   11:38:30.03hr 52min ago...</td>\n",
       "    </tr>\n",
       "    <tr>\n",
       "      <th>32</th>\n",
       "      <td>earthquake2021-11-25   11:37:04.63hr 53min ago...</td>\n",
       "    </tr>\n",
       "    <tr>\n",
       "      <th>33</th>\n",
       "      <td>earthquake2021-11-25   11:36:33.93hr 54min ago...</td>\n",
       "    </tr>\n",
       "    <tr>\n",
       "      <th>34</th>\n",
       "      <td>earthquake2021-11-25   11:27:06.64hr 03min ago...</td>\n",
       "    </tr>\n",
       "    <tr>\n",
       "      <th>35</th>\n",
       "      <td>earthquake2021-11-25   11:02:56.44hr 28min ago...</td>\n",
       "    </tr>\n",
       "    <tr>\n",
       "      <th>36</th>\n",
       "      <td>earthquake2021-11-25   10:57:30.04hr 33min ago...</td>\n",
       "    </tr>\n",
       "    <tr>\n",
       "      <th>37</th>\n",
       "      <td>earthquake2021-11-25   10:54:36.94hr 36min ago...</td>\n",
       "    </tr>\n",
       "    <tr>\n",
       "      <th>38</th>\n",
       "      <td>earthquake2021-11-25   10:46:20.44hr 44min ago...</td>\n",
       "    </tr>\n",
       "    <tr>\n",
       "      <th>39</th>\n",
       "      <td>earthquake2021-11-25   10:45:56.04hr 45min ago...</td>\n",
       "    </tr>\n",
       "    <tr>\n",
       "      <th>40</th>\n",
       "      <td>earthquake2021-11-25   10:44:02.04hr 47min ago...</td>\n",
       "    </tr>\n",
       "    <tr>\n",
       "      <th>41</th>\n",
       "      <td>earthquake2021-11-25   10:36:32.04hr 54min ago...</td>\n",
       "    </tr>\n",
       "    <tr>\n",
       "      <th>42</th>\n",
       "      <td>earthquake2021-11-25   10:31:27.44hr 59min ago...</td>\n",
       "    </tr>\n",
       "    <tr>\n",
       "      <th>43</th>\n",
       "      <td>earthquake2021-11-25   10:24:43.45hr 06min ago...</td>\n",
       "    </tr>\n",
       "    <tr>\n",
       "      <th>44</th>\n",
       "      <td>37IVearthquake2021-11-25   10:23:09.85hr 07min...</td>\n",
       "    </tr>\n",
       "    <tr>\n",
       "      <th>45</th>\n",
       "      <td>earthquake2021-11-25   10:22:13.15hr 08min ago...</td>\n",
       "    </tr>\n",
       "    <tr>\n",
       "      <th>46</th>\n",
       "      <td>21IVearthquake2021-11-25   10:13:34.75hr 17min...</td>\n",
       "    </tr>\n",
       "    <tr>\n",
       "      <th>47</th>\n",
       "      <td>earthquake2021-11-25   10:10:05.55hr 20min ago...</td>\n",
       "    </tr>\n",
       "    <tr>\n",
       "      <th>48</th>\n",
       "      <td>earthquake2021-11-25   10:08:56.05hr 22min ago...</td>\n",
       "    </tr>\n",
       "  </tbody>\n",
       "</table>\n",
       "</div>"
      ],
      "text/plain": [
       "   earthquake2021-11-25   15:21:54.109min ago28.51 N  17.91 W  18ML3.3 CANARY ISLANDS, SPAIN REGION2021-11-25 15:23\n",
       "0   earthquake2021-11-25   15:14:32.816min ago28.5...                                                              \n",
       "1   earthquake2021-11-25   15:09:55.321min ago35.8...                                                              \n",
       "2   earthquake2021-11-25   14:47:51.543min ago37.8...                                                              \n",
       "3   earthquake2021-11-25   14:32:33.758min ago35.4...                                                              \n",
       "4   earthquake2021-11-25   14:30:17.81hr 00min ago...                                                              \n",
       "5   earthquake2021-11-25   14:28:50.01hr 02min ago...                                                              \n",
       "6   earthquake2021-11-25   14:15:22.61hr 15min ago...                                                              \n",
       "7   earthquake2021-11-25   14:06:53.81hr 24min ago...                                                              \n",
       "8   earthquake2021-11-25   14:06:43.31hr 24min ago...                                                              \n",
       "9   earthquake2021-11-25   14:05:41.01hr 25min ago...                                                              \n",
       "10  earthquake2021-11-25   13:51:17.01hr 39min ago...                                                              \n",
       "11  earthquake2021-11-25   13:44:23.71hr 46min ago...                                                              \n",
       "12  earthquake2021-11-25   13:32:03.01hr 59min ago...                                                              \n",
       "13  earthquake2021-11-25   13:22:47.22hr 08min ago...                                                              \n",
       "14  earthquake2021-11-25   13:21:37.72hr 09min ago...                                                              \n",
       "15  earthquake2021-11-25   13:04:16.12hr 26min ago...                                                              \n",
       "16  Fearthquake2021-11-25   13:03:32.92hr 27min ag...                                                              \n",
       "17  earthquake2021-11-25   12:57:44.02hr 33min ago...                                                              \n",
       "18  earthquake2021-11-25   12:50:46.42hr 40min ago...                                                              \n",
       "19  earthquake2021-11-25   12:48:29.02hr 42min ago...                                                              \n",
       "20  earthquake2021-11-25   12:39:41.82hr 51min ago...                                                              \n",
       "21  earthquake2021-11-25   12:26:15.53hr 04min ago...                                                              \n",
       "22  earthquake2021-11-25   12:18:01.43hr 13min ago...                                                              \n",
       "23  earthquake2021-11-25   12:04:57.43hr 26min ago...                                                              \n",
       "24  earthquake2021-11-25   12:04:09.33hr 26min ago...                                                              \n",
       "25  earthquake2021-11-25   12:02:07.23hr 28min ago...                                                              \n",
       "26  earthquake2021-11-25   12:02:00.23hr 29min ago...                                                              \n",
       "27  earthquake2021-11-25   11:47:18.03hr 43min ago...                                                              \n",
       "28  earthquake2021-11-25   11:46:16.53hr 44min ago...                                                              \n",
       "29  earthquake2021-11-25   11:44:24.53hr 46min ago...                                                              \n",
       "30  earthquake2021-11-25   11:40:30.03hr 50min ago...                                                              \n",
       "31  earthquake2021-11-25   11:38:30.03hr 52min ago...                                                              \n",
       "32  earthquake2021-11-25   11:37:04.63hr 53min ago...                                                              \n",
       "33  earthquake2021-11-25   11:36:33.93hr 54min ago...                                                              \n",
       "34  earthquake2021-11-25   11:27:06.64hr 03min ago...                                                              \n",
       "35  earthquake2021-11-25   11:02:56.44hr 28min ago...                                                              \n",
       "36  earthquake2021-11-25   10:57:30.04hr 33min ago...                                                              \n",
       "37  earthquake2021-11-25   10:54:36.94hr 36min ago...                                                              \n",
       "38  earthquake2021-11-25   10:46:20.44hr 44min ago...                                                              \n",
       "39  earthquake2021-11-25   10:45:56.04hr 45min ago...                                                              \n",
       "40  earthquake2021-11-25   10:44:02.04hr 47min ago...                                                              \n",
       "41  earthquake2021-11-25   10:36:32.04hr 54min ago...                                                              \n",
       "42  earthquake2021-11-25   10:31:27.44hr 59min ago...                                                              \n",
       "43  earthquake2021-11-25   10:24:43.45hr 06min ago...                                                              \n",
       "44  37IVearthquake2021-11-25   10:23:09.85hr 07min...                                                              \n",
       "45  earthquake2021-11-25   10:22:13.15hr 08min ago...                                                              \n",
       "46  21IVearthquake2021-11-25   10:13:34.75hr 17min...                                                              \n",
       "47  earthquake2021-11-25   10:10:05.55hr 20min ago...                                                              \n",
       "48  earthquake2021-11-25   10:08:56.05hr 22min ago...                                                              "
      ]
     },
     "execution_count": 36,
     "metadata": {},
     "output_type": "execute_result"
    }
   ],
   "source": [
    "#your code\n",
    "table = soup.find_all('tbody',{'id':'tbody'})[0]\n",
    "rows = table.find_all('tr')\n",
    "rows = [row.text.replace('\\n\\n\\n','\\n\\n').strip().split(\"\\n\\n\") for row in rows]\n",
    "rows\n",
    "\n",
    "colnames = rows[0]\n",
    "data = rows[1:]\n",
    "\n",
    "df = pd.DataFrame(data,columns = colnames)\n",
    "df\n"
   ]
  },
  {
   "cell_type": "markdown",
   "metadata": {},
   "source": [
    "#### Display the date, days, title, city, country of next 25 hackathon events as a Pandas dataframe table"
   ]
  },
  {
   "cell_type": "code",
   "execution_count": 42,
   "metadata": {},
   "outputs": [],
   "source": [
    "# This is the url you will scrape in this exercise\n",
    "url = url ='https://hackevents.co/hackathons'\n"
   ]
  },
  {
   "cell_type": "code",
   "execution_count": 43,
   "metadata": {},
   "outputs": [
    {
     "data": {
      "text/plain": [
       "<!DOCTYPE html>\n",
       "<html data-adblockkey=\"MFwwDQYJKoZIhvcNAQEBBQADSwAwSAJBANDrp2lz7AOmADaN8tA50LsWcjLFyQFcb/P2Txc58oYOeILb3vBw7J6f4pamkAQVSQuqYsKx3YzdUHCvbVZvFUsCAwEAAQ==_mw3Skn1ue2idIhvhcTQmgiMyLK6+blEY2BkbkTQwQOv5RuPtVH+wqmSuzjYPPpoDpz7WPv4wE+rRb2RzhcIiKg==\" lang=\"en\"><head><meta charset=\"utf-8\"/><meta content=\"width=device-width, initial-scale=1\" name=\"viewport\"/><link href=\"/favicon.ico\" rel=\"shortcut icon\" type=\"image/x-icon\"/><link crossorigin=\"\" href=\"https://www.google.com\" rel=\"preconnect\"/><link crossorigin=\"\" href=\"https://parking.bodiscdn.com\" rel=\"dns-prefetch\"/><link crossorigin=\"\" href=\"https://fonts.googleapis.com\" rel=\"dns-prefetch\"/></head><body><div id=\"target\" style=\"opacity: 0\"></div><script>window.park = \"eyJ1dWlkIjoiNGYxMDgwNTctNmViYy1iMmJkLTVkOTUtZDY4Nzc3MWFlOWYyIiwicGFnZV90aW1lIjoxNjM3ODU0ODA2LCJwYWdlX3VybCI6Imh0dHA6XC9cL3d3MjUuaGFja2V2ZW50cy5jb1wvaGFja2F0aG9ucz9zdWJpZDE9MjAyMTExMjYtMDI0MC0wNjgwLTk0ZGMtMzAwMDA4NjBhNzhlIiwicGFnZV9tZXRob2QiOiJHRVQiLCJwYWdlX3JlcXVlc3QiOnsic3ViaWQxIjoiMjAyMTExMjYtMDI0MC0wNjgwLTk0ZGMtMzAwMDA4NjBhNzhlIn0sInBhZ2VfaGVhZGVycyI6eyJjb29raWUiOlsiX190YWQ9MTYzNzg1NDgwNi4yODM1NDY4Il0sImNvbm5lY3Rpb24iOlsia2VlcC1hbGl2ZSJdLCJhY2NlcHQiOlsiKlwvKiJdLCJhY2NlcHQtZW5jb2RpbmciOlsiZ3ppcCwgZGVmbGF0ZSwgYnIiXSwidXNlci1hZ2VudCI6WyJweXRob24tcmVxdWVzdHNcLzIuMjYuMCJdLCJob3N0IjpbInd3MjUuaGFja2V2ZW50cy5jbyJdfSwiaG9zdCI6Ind3MjUuaGFja2V2ZW50cy5jbyIsImlwIjoiMjAwLjY4LjE4Ny4yMTAifQ==\";</script><script src=\"/js/parking.2.72.6.js\"></script></body></html>"
      ]
     },
     "execution_count": 43,
     "metadata": {},
     "output_type": "execute_result"
    }
   ],
   "source": [
    "#your code\n",
    "html = requests.get(url).content\n",
    "soup = BeautifulSoup(html, \"lxml\")\n",
    "soup1 = soup.select('body')\n",
    "soup"
   ]
  },
  {
   "cell_type": "markdown",
   "metadata": {},
   "source": [
    "#### Count number of tweets by a given Twitter account."
   ]
  },
  {
   "cell_type": "markdown",
   "metadata": {},
   "source": [
    "You will need to include a ***try/except block*** for account names not found. \n",
    "<br>***Hint:*** the program should count the number of tweets for any provided account"
   ]
  },
  {
   "cell_type": "code",
   "execution_count": 44,
   "metadata": {},
   "outputs": [],
   "source": [
    "# This is the url you will scrape in this exercise \n",
    "# You will need to add the account credentials to this url\n",
    "url = 'https://twitter.com/'"
   ]
  },
  {
   "cell_type": "code",
   "execution_count": 47,
   "metadata": {},
   "outputs": [
    {
     "name": "stdout",
     "output_type": "stream",
     "text": [
      "credentials: michesquivel\n"
     ]
    },
    {
     "ename": "NameError",
     "evalue": "name 'webdriver' is not defined",
     "output_type": "error",
     "traceback": [
      "\u001b[1;31m---------------------------------------------------------------------------\u001b[0m",
      "\u001b[1;31mNameError\u001b[0m                                 Traceback (most recent call last)",
      "\u001b[1;32m~\\AppData\\Local\\Temp/ipykernel_6444/516880276.py\u001b[0m in \u001b[0;36m<module>\u001b[1;34m\u001b[0m\n\u001b[0;32m     11\u001b[0m     \u001b[1;32mexcept\u001b[0m\u001b[1;33m:\u001b[0m\u001b[1;33m\u001b[0m\u001b[1;33m\u001b[0m\u001b[0m\n\u001b[0;32m     12\u001b[0m         \u001b[0mnum_tweets\u001b[0m\u001b[1;33m(\u001b[0m\u001b[1;33m)\u001b[0m\u001b[1;33m\u001b[0m\u001b[1;33m\u001b[0m\u001b[0m\n\u001b[1;32m---> 13\u001b[1;33m \u001b[0mnum_tweets\u001b[0m\u001b[1;33m(\u001b[0m\u001b[1;33m)\u001b[0m\u001b[1;33m\u001b[0m\u001b[1;33m\u001b[0m\u001b[0m\n\u001b[0m",
      "\u001b[1;32m~\\AppData\\Local\\Temp/ipykernel_6444/516880276.py\u001b[0m in \u001b[0;36mnum_tweets\u001b[1;34m()\u001b[0m\n\u001b[0;32m      3\u001b[0m     \u001b[0maccount\u001b[0m \u001b[1;33m=\u001b[0m \u001b[0minput\u001b[0m\u001b[1;33m(\u001b[0m\u001b[1;34m'credentials: '\u001b[0m\u001b[1;33m)\u001b[0m\u001b[1;33m\u001b[0m\u001b[1;33m\u001b[0m\u001b[0m\n\u001b[0;32m      4\u001b[0m     \u001b[0murl\u001b[0m \u001b[1;33m=\u001b[0m \u001b[1;34mf'https://twitter.com/{account}'\u001b[0m\u001b[1;33m\u001b[0m\u001b[1;33m\u001b[0m\u001b[0m\n\u001b[1;32m----> 5\u001b[1;33m     \u001b[0mdriver\u001b[0m \u001b[1;33m=\u001b[0m \u001b[0mwebdriver\u001b[0m\u001b[1;33m.\u001b[0m\u001b[0mChrome\u001b[0m\u001b[1;33m(\u001b[0m\u001b[1;33m)\u001b[0m\u001b[1;33m\u001b[0m\u001b[1;33m\u001b[0m\u001b[0m\n\u001b[0m\u001b[0;32m      6\u001b[0m     \u001b[0mdriver\u001b[0m\u001b[1;33m.\u001b[0m\u001b[0mget\u001b[0m\u001b[1;33m(\u001b[0m\u001b[0murl\u001b[0m\u001b[1;33m)\u001b[0m\u001b[1;33m\u001b[0m\u001b[1;33m\u001b[0m\u001b[0m\n\u001b[0;32m      7\u001b[0m     \u001b[0mtweets\u001b[0m \u001b[1;33m=\u001b[0m \u001b[1;34m''\u001b[0m\u001b[1;33m\u001b[0m\u001b[1;33m\u001b[0m\u001b[0m\n",
      "\u001b[1;31mNameError\u001b[0m: name 'webdriver' is not defined"
     ]
    }
   ],
   "source": [
    "#your code\n",
    "def num_tweets():\n",
    "    account = input('credentials: ')\n",
    "    url = f'https://twitter.com/{account}'\n",
    "    driver = webdriver.Chrome()\n",
    "    driver.get(url)\n",
    "    tweets = ''\n",
    "    try:\n",
    "        tweets = WebDriverWait(driver, 10).until(EC.presence_of_element_located((By.XPATH, '//*[@id=\"react-root\"]/div/div/div[2]/main/div/div/div/div/div/div[1]/div[1]/div/div/div/div/div[2]/div/div'))).text\n",
    "        print(tweets)\n",
    "    except:\n",
    "        num_tweets()\n",
    "num_tweets()"
   ]
  },
  {
   "cell_type": "markdown",
   "metadata": {},
   "source": [
    "#### Number of followers of a given twitter account"
   ]
  },
  {
   "cell_type": "markdown",
   "metadata": {},
   "source": [
    "You will need to include a ***try/except block*** in case account/s name not found. \n",
    "<br>***Hint:*** the program should count the followers for any provided account"
   ]
  },
  {
   "cell_type": "code",
   "execution_count": null,
   "metadata": {},
   "outputs": [],
   "source": [
    "# This is the url you will scrape in this exercise \n",
    "# You will need to add the account credentials to this url\n",
    "url = 'https://twitter.com/'"
   ]
  },
  {
   "cell_type": "code",
   "execution_count": null,
   "metadata": {},
   "outputs": [],
   "source": [
    "#your code"
   ]
  },
  {
   "cell_type": "markdown",
   "metadata": {},
   "source": [
    "#### List all language names and number of related articles in the order they appear in wikipedia.org"
   ]
  },
  {
   "cell_type": "code",
   "execution_count": 48,
   "metadata": {},
   "outputs": [],
   "source": [
    "# This is the url you will scrape in this exercise\n",
    "url = 'https://www.wikipedia.org/'"
   ]
  },
  {
   "cell_type": "code",
   "execution_count": 49,
   "metadata": {},
   "outputs": [
    {
     "data": {
      "text/plain": [
       "['English - 6383000',\n",
       " '日本語 - 1292000',\n",
       " 'Русский - 1756000',\n",
       " 'Deutsch - 2617000',\n",
       " 'Español - 1717000',\n",
       " 'Français - 2362000',\n",
       " '中文 - 1231000',\n",
       " 'Italiano - 1718000',\n",
       " 'Português - 1074000',\n",
       " 'Polski - 1490000']"
      ]
     },
     "execution_count": 49,
     "metadata": {},
     "output_type": "execute_result"
    }
   ],
   "source": [
    "#your code\n",
    "html = requests.get(url).content\n",
    "soup = BeautifulSoup(html, \"lxml\")\n",
    "soup1 = soup.select('body > div.central-featured > div.central-featured-lang')\n",
    "lang_art_list = []\n",
    "for lang in soup1:\n",
    "    language = lang.select('a > strong')[0].text.replace('\\xa0', '')\n",
    "    articles = lang.select('a > small > bdi')[0].text.replace('\\xa0', '')\n",
    "    lang_art_list.append(f'{language} - {articles[:-1]}')\n",
    "lang_art_list"
   ]
  },
  {
   "cell_type": "markdown",
   "metadata": {},
   "source": [
    "#### A list with the different kind of datasets available in data.gov.uk "
   ]
  },
  {
   "cell_type": "code",
   "execution_count": 50,
   "metadata": {},
   "outputs": [],
   "source": [
    "# This is the url you will scrape in this exercise\n",
    "url = 'https://data.gov.uk/'"
   ]
  },
  {
   "cell_type": "code",
   "execution_count": 51,
   "metadata": {},
   "outputs": [
    {
     "data": {
      "text/plain": [
       "['Business and economy',\n",
       " 'Crime and justice',\n",
       " 'Defence',\n",
       " 'Education',\n",
       " 'Environment',\n",
       " 'Government',\n",
       " 'Government spending',\n",
       " 'Health',\n",
       " 'Mapping',\n",
       " 'Society',\n",
       " 'Towns and cities',\n",
       " 'Transport',\n",
       " 'Digital service performance',\n",
       " 'Government reference data']"
      ]
     },
     "execution_count": 51,
     "metadata": {},
     "output_type": "execute_result"
    }
   ],
   "source": [
    "#your code \n",
    "html = requests.get(url).content\n",
    "soup = BeautifulSoup(html, \"lxml\")\n",
    "soup1 = soup.select('ul.dgu-topics__list > li')\n",
    "db_list = []\n",
    "for element in soup1:\n",
    "    db_list.append(element.select('li > h3')[0].text)\n",
    "db_list"
   ]
  },
  {
   "cell_type": "markdown",
   "metadata": {},
   "source": [
    "#### Top 10 languages by number of native speakers stored in a Pandas Dataframe"
   ]
  },
  {
   "cell_type": "code",
   "execution_count": 52,
   "metadata": {},
   "outputs": [],
   "source": [
    "# This is the url you will scrape in this exercise\n",
    "url = 'https://en.wikipedia.org/wiki/List_of_languages_by_number_of_native_speakers'"
   ]
  },
  {
   "cell_type": "code",
   "execution_count": 54,
   "metadata": {},
   "outputs": [
    {
     "data": {
      "text/html": [
       "<div>\n",
       "<style scoped>\n",
       "    .dataframe tbody tr th:only-of-type {\n",
       "        vertical-align: middle;\n",
       "    }\n",
       "\n",
       "    .dataframe tbody tr th {\n",
       "        vertical-align: top;\n",
       "    }\n",
       "\n",
       "    .dataframe thead th {\n",
       "        text-align: right;\n",
       "    }\n",
       "</style>\n",
       "<table border=\"1\" class=\"dataframe\">\n",
       "  <thead>\n",
       "    <tr style=\"text-align: right;\">\n",
       "      <th></th>\n",
       "      <th>Language</th>\n",
       "      <th>Speakers(millions)</th>\n",
       "    </tr>\n",
       "  </thead>\n",
       "  <tbody>\n",
       "    <tr>\n",
       "      <th>0</th>\n",
       "      <td>Mandarin Chinese</td>\n",
       "      <td>918.0</td>\n",
       "    </tr>\n",
       "    <tr>\n",
       "      <th>1</th>\n",
       "      <td>Spanish</td>\n",
       "      <td>480.0</td>\n",
       "    </tr>\n",
       "    <tr>\n",
       "      <th>2</th>\n",
       "      <td>English</td>\n",
       "      <td>379.0</td>\n",
       "    </tr>\n",
       "    <tr>\n",
       "      <th>3</th>\n",
       "      <td>Hindi (sanskritised Hindustani)[11]</td>\n",
       "      <td>341.0</td>\n",
       "    </tr>\n",
       "    <tr>\n",
       "      <th>4</th>\n",
       "      <td>Bengali</td>\n",
       "      <td>300.0</td>\n",
       "    </tr>\n",
       "    <tr>\n",
       "      <th>5</th>\n",
       "      <td>Portuguese</td>\n",
       "      <td>221.0</td>\n",
       "    </tr>\n",
       "    <tr>\n",
       "      <th>6</th>\n",
       "      <td>Russian</td>\n",
       "      <td>154.0</td>\n",
       "    </tr>\n",
       "    <tr>\n",
       "      <th>7</th>\n",
       "      <td>Japanese</td>\n",
       "      <td>128.0</td>\n",
       "    </tr>\n",
       "    <tr>\n",
       "      <th>8</th>\n",
       "      <td>Western Punjabi[12]</td>\n",
       "      <td>92.7</td>\n",
       "    </tr>\n",
       "    <tr>\n",
       "      <th>9</th>\n",
       "      <td>Marathi</td>\n",
       "      <td>83.1</td>\n",
       "    </tr>\n",
       "  </tbody>\n",
       "</table>\n",
       "</div>"
      ],
      "text/plain": [
       "                              Language  Speakers(millions)\n",
       "0                     Mandarin Chinese               918.0\n",
       "1                              Spanish               480.0\n",
       "2                              English               379.0\n",
       "3  Hindi (sanskritised Hindustani)[11]               341.0\n",
       "4                              Bengali               300.0\n",
       "5                           Portuguese               221.0\n",
       "6                              Russian               154.0\n",
       "7                             Japanese               128.0\n",
       "8                  Western Punjabi[12]                92.7\n",
       "9                              Marathi                83.1"
      ]
     },
     "execution_count": 54,
     "metadata": {},
     "output_type": "execute_result"
    }
   ],
   "source": [
    "#your code\n",
    "tables = pd.read_html(url)\n",
    "a1 = tables[1]\n",
    "native = a1[['Language', 'Speakers(millions)']].head(10)\n",
    "native"
   ]
  },
  {
   "cell_type": "markdown",
   "metadata": {},
   "source": [
    "### BONUS QUESTIONS"
   ]
  },
  {
   "cell_type": "markdown",
   "metadata": {},
   "source": [
    "#### Scrape a certain number of tweets of a given Twitter account."
   ]
  },
  {
   "cell_type": "code",
   "execution_count": null,
   "metadata": {},
   "outputs": [],
   "source": [
    "# This is the url you will scrape in this exercise \n",
    "# You will need to add the account credentials to this url\n",
    "url = 'https://twitter.com/'"
   ]
  },
  {
   "cell_type": "code",
   "execution_count": null,
   "metadata": {},
   "outputs": [],
   "source": [
    "# your code"
   ]
  },
  {
   "cell_type": "markdown",
   "metadata": {},
   "source": [
    "#### IMDB's Top 250 data (movie name, Initial release, director name and stars) as a pandas dataframe"
   ]
  },
  {
   "cell_type": "code",
   "execution_count": null,
   "metadata": {},
   "outputs": [],
   "source": [
    "# This is the url you will scrape in this exercise \n",
    "url = 'https://www.imdb.com/chart/top'"
   ]
  },
  {
   "cell_type": "code",
   "execution_count": null,
   "metadata": {},
   "outputs": [],
   "source": [
    "# your code"
   ]
  },
  {
   "cell_type": "markdown",
   "metadata": {},
   "source": [
    "#### Movie name, year and a brief summary of the top 10 random movies (IMDB) as a pandas dataframe."
   ]
  },
  {
   "cell_type": "code",
   "execution_count": null,
   "metadata": {},
   "outputs": [],
   "source": [
    "#This is the url you will scrape in this exercise\n",
    "url = 'http://www.imdb.com/chart/top'"
   ]
  },
  {
   "cell_type": "code",
   "execution_count": null,
   "metadata": {},
   "outputs": [],
   "source": [
    "#your code"
   ]
  },
  {
   "cell_type": "markdown",
   "metadata": {},
   "source": [
    "#### Find the live weather report (temperature, wind speed, description and weather) of a given city."
   ]
  },
  {
   "cell_type": "code",
   "execution_count": null,
   "metadata": {},
   "outputs": [],
   "source": [
    "#https://openweathermap.org/current\n",
    "city = city=input('Enter the city:')\n",
    "url = 'http://api.openweathermap.org/data/2.5/weather?'+'q='+city+'&APPID=b35975e18dc93725acb092f7272cc6b8&units=metric'"
   ]
  },
  {
   "cell_type": "code",
   "execution_count": null,
   "metadata": {},
   "outputs": [],
   "source": [
    "# your code"
   ]
  },
  {
   "cell_type": "markdown",
   "metadata": {},
   "source": [
    "#### Book name,price and stock availability as a pandas dataframe."
   ]
  },
  {
   "cell_type": "code",
   "execution_count": null,
   "metadata": {},
   "outputs": [],
   "source": [
    "# This is the url you will scrape in this exercise. \n",
    "# It is a fictional bookstore created to be scraped. \n",
    "url = 'http://books.toscrape.com/'"
   ]
  },
  {
   "cell_type": "code",
   "execution_count": null,
   "metadata": {},
   "outputs": [],
   "source": [
    "#your code"
   ]
  }
 ],
 "metadata": {
  "kernelspec": {
   "display_name": "Python 3 (ipykernel)",
   "language": "python",
   "name": "python3"
  },
  "language_info": {
   "codemirror_mode": {
    "name": "ipython",
    "version": 3
   },
   "file_extension": ".py",
   "mimetype": "text/x-python",
   "name": "python",
   "nbconvert_exporter": "python",
   "pygments_lexer": "ipython3",
   "version": "3.9.7"
  }
 },
 "nbformat": 4,
 "nbformat_minor": 4
}
